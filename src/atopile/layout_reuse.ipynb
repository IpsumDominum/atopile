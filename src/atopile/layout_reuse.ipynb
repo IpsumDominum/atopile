{
 "cells": [
  {
   "cell_type": "code",
   "execution_count": 1,
   "metadata": {},
   "outputs": [],
   "source": [
    "import re"
   ]
  },
  {
   "cell_type": "code",
   "execution_count": 34,
   "metadata": {},
   "outputs": [],
   "source": [
    "# To create getter and setter functions for the component information, we'll define two functions:\n",
    "# 1. get_components: This function will parse the .kicad_pcb file and return a list of components with their details.\n",
    "# 2. set_components: This function will take a list of components with updated positions/rotations and modify the .kicad_pcb file accordingly.\n",
    "\n",
    "\n",
    "def get_components(file_data):\n",
    "    \"\"\"\n",
    "    Parses the .kicad_pcb file data and extracts component information along with the designator.\n",
    "\n",
    "    Args:\n",
    "    file_data (str): Contents of the .kicad_pcb file.\n",
    "\n",
    "    Returns:\n",
    "    list of dicts: List of components with details (uuid, position, rotation, designator).\n",
    "    \"\"\"\n",
    "    # Regex to match component footprint and extract UUID, position, rotation, and designator\n",
    "    component_regex = re.compile(\n",
    "        r'\\(footprint\\s+\"[^\"]+\"\\s+\\(layer\\s+\"[^\"]+\"\\)\\s*\\(tstamp\\s+([^\\s]+)\\)\\s*\\(at\\s+([0-9.-]+)\\s+([0-9.-]+)\\s*([0-9.-]*)\\).*?\\(fp_text\\s+reference\\s+\"([^\"]+)\"',\n",
    "        re.MULTILINE | re.DOTALL\n",
    "    )\n",
    "\n",
    "    components = component_regex.findall(file_data)\n",
    "    parsed_components = [\n",
    "        {'uuid': uuid, 'position': {'x': float(x), 'y': float(y)}, 'rotation': float(rot) if rot else 0.0, 'designator': designator}\n",
    "        for uuid, x, y, rot, designator in components\n",
    "    ]\n",
    "    return parsed_components\n",
    "\n",
    "def set_components(file_data, updated_components):\n",
    "    \"\"\"\n",
    "    Updates the .kicad_pcb file data with new positions and rotations for components.\n",
    "    Also updates pad rotations by adding the component's rotation to the original pad rotation.\n",
    "\n",
    "    Args:\n",
    "    file_data (str): Original contents of the .kicad_pcb file.\n",
    "    updated_components (list of dicts): List of components with updated details (uuid, new position, new rotation).\n",
    "\n",
    "    Returns:\n",
    "    str: Updated contents of the .kicad_pcb file.\n",
    "    \"\"\"\n",
    "    for component in updated_components:\n",
    "        uuid = component['uuid']\n",
    "        new_x = component['position']['x']\n",
    "        new_y = component['position']['y']\n",
    "        new_rot = component['rotation']\n",
    "\n",
    "        # Update the position and rotation of the component in the file data\n",
    "        file_data = re.sub(\n",
    "            rf'(\\(footprint\\s+\"[^\"]+\"\\s+\\(layer\\s+\"[^\"]+\"\\)\\s*\\(tstamp\\s+{uuid}\\)\\s*)\\(at\\s+([0-9.-]+)\\s+([0-9.-]+)\\s*([0-9.-]*)\\)',\n",
    "            rf'\\1(at {new_x} {new_y} {new_rot})',\n",
    "            file_data\n",
    "        )\n",
    "\n",
    "        # Regex for finding and updating pad rotations\n",
    "        pad_regex = rf'(\\(pad\\s+[^\\(]*\\(at\\s+([0-9.-]+)\\s+([0-9.-]+)\\s*)([0-9.-]+)(\\)\\s+\\(size)'\n",
    "        def pad_rotation_match(match):\n",
    "            original_pad_rot = float(match.group(4))\n",
    "            new_pad_rot = original_pad_rot + new_rot\n",
    "            return f\"{match.group(1)}{new_pad_rot}{match.group(5)}\"\n",
    "        file_data = re.sub(pad_regex, pad_rotation_match, file_data, flags=re.MULTILINE)\n",
    "\n",
    "    return file_data\n",
    "\n"
   ]
  },
  {
   "cell_type": "code",
   "execution_count": 35,
   "metadata": {},
   "outputs": [],
   "source": [
    "# import pcb file\n",
    "project_path = \"/Users/narayanpowderly/Documents/atopile-workspace/blurp/elec/layout/blurp.kicad_pcb\"\n",
    "kicad_pcb_data = open(project_path, 'r').read()"
   ]
  },
  {
   "cell_type": "code",
   "execution_count": 36,
   "metadata": {},
   "outputs": [
    {
     "data": {
      "text/plain": [
       "[{'uuid': '04b151b8-8c42-4843-aab0-15ca151b6d42',\n",
       "  'position': {'x': 153.14, 'y': 85.22},\n",
       "  'rotation': 35.0,\n",
       "  'designator': 'C4'},\n",
       " {'uuid': '1d11faa8-d6ee-455b-896a-ac23a1193ad6',\n",
       "  'position': {'x': 153.16, 'y': 95.25},\n",
       "  'rotation': 35.0,\n",
       "  'designator': 'R2'},\n",
       " {'uuid': '22b0138b-29af-4ee3-b83c-af666ef1e228',\n",
       "  'position': {'x': 153.16, 'y': 90.24},\n",
       "  'rotation': 35.0,\n",
       "  'designator': 'R1'},\n",
       " {'uuid': '2edaabac-758e-4607-a9d3-16d75b47d3d8',\n",
       "  'position': {'x': 147.48, 'y': 95.76},\n",
       "  'rotation': 35.0,\n",
       "  'designator': 'C2'},\n",
       " {'uuid': '50bd3a70-33f5-4ee0-96bf-95911c3296af',\n",
       "  'position': {'x': 140.73, 'y': 92.19},\n",
       "  'rotation': 35.0,\n",
       "  'designator': 'U3'},\n",
       " {'uuid': '5c30d0e1-14ff-4194-ae79-53e235712b8c',\n",
       "  'position': {'x': 147.48, 'y': 85.74},\n",
       "  'rotation': 35.0,\n",
       "  'designator': 'C3'},\n",
       " {'uuid': '66c82c11-81c9-4950-97a7-b73b11f7db89',\n",
       "  'position': {'x': 140.625, 'y': 96.87},\n",
       "  'rotation': 35.0,\n",
       "  'designator': 'U2'},\n",
       " {'uuid': '7e52176e-bfaf-45ff-8a45-8b8d6549027a',\n",
       "  'position': {'x': 147.48, 'y': 90.75},\n",
       "  'rotation': 35.0,\n",
       "  'designator': 'C1'},\n",
       " {'uuid': 'bf2befdb-64a2-4b69-a8db-9694ffa3863c',\n",
       "  'position': {'x': 140.855, 'y': 86.41},\n",
       "  'rotation': 35.0,\n",
       "  'designator': 'U1'}]"
      ]
     },
     "execution_count": 36,
     "metadata": {},
     "output_type": "execute_result"
    }
   ],
   "source": [
    "components = get_components(kicad_pcb_data)\n",
    "\n",
    "# Let's say we want to update the position and rotation of the first component\n",
    "# components[0]['position']['x'] += 1000  # Move the x position by 10mm\n",
    "# components[0]['rotation'] = 45  # Rotate the component to 45 degrees\n",
    "# rotate all components by 35 degrees\n",
    "for component in components:\n",
    "    component['rotation'] += 35\n",
    "\n",
    "# Updating the file with the new component data\n",
    "updated_file_data = set_components(kicad_pcb_data, components)\n",
    "\n",
    "# Write the updated file data to a new file\n",
    "with open(project_path, 'w') as f:\n",
    "    f.write(updated_file_data)\n",
    "\n",
    "# Display the first part of the updated file data to verify the change\n",
    "# print(updated_file_data[:1000])  # Print first 1000 characters of the updated file data\n",
    "# components\n",
    "updated_components = get_components(updated_file_data)\n",
    "\n",
    "updated_components"
   ]
  },
  {
   "cell_type": "code",
   "execution_count": null,
   "metadata": {},
   "outputs": [],
   "source": []
  },
  {
   "cell_type": "code",
   "execution_count": null,
   "metadata": {},
   "outputs": [],
   "source": []
  }
 ],
 "metadata": {
  "kernelspec": {
   "display_name": ".venv",
   "language": "python",
   "name": "python3"
  },
  "language_info": {
   "codemirror_mode": {
    "name": "ipython",
    "version": 3
   },
   "file_extension": ".py",
   "mimetype": "text/x-python",
   "name": "python",
   "nbconvert_exporter": "python",
   "pygments_lexer": "ipython3",
   "version": "3.11.6"
  }
 },
 "nbformat": 4,
 "nbformat_minor": 2
}
