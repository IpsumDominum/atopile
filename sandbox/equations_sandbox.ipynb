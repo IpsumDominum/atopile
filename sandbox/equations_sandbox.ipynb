{
 "cells": [
  {
   "cell_type": "code",
   "execution_count": null,
   "metadata": {},
   "outputs": [],
   "source": []
  },
  {
   "cell_type": "markdown",
   "metadata": {},
   "source": [
    "### Step 1: solver\n",
    "\n",
    "Takes in any variables that seem useful and a set of equations and returns a solution for the variables.\n",
    "\n",
    "### Step 2: component picker\n",
    "\n",
    "Finds the nearest component values to the solution\n",
    "\n",
    "### Step 3: checker\n",
    "\n",
    "Checks the proposed values against the equations to see if it is correct, just reruns the solver with the proposed values and checks if the solution is 'within tolerance' of the proposed values."
   ]
  },
  {
   "cell_type": "code",
   "execution_count": 14,
   "metadata": {},
   "outputs": [
    {
     "name": "stdout",
     "output_type": "stream",
     "text": [
      "{'R1': 8000.00000000000, 'R2': 2000.00000000000, 'ratio': 0.200000000000000, 'r_total': 10000.0000000000}\n",
      "{I: 1/2, Vout: 5, r_total: 20, ratio: 1/2}\n",
      "{I: 1/2, Vout: 5, r_total: 20, ratio: 1/2}\n"
     ]
    }
   ],
   "source": [
    "from sympy import symbols, Eq, solve\n",
    "\n",
    "# Define all symbols\n",
    "R1, R2, Vin, Vout, I, ratio, r_total = symbols('R1 R2 Vin Vout I ratio r_total')\n",
    "\n",
    "# Define the equations\n",
    "equation1 = Eq(Vout, Vin * (R2 / (R1 + R2)))\n",
    "equation2 = Eq(I, Vin / (R1 + R2))\n",
    "equation3 = Eq(ratio, R2 / (R1 + R2))\n",
    "equation4 = Eq(r_total, R1 + R2)\n",
    "\n",
    "# Function to solve the equations based on specified values\n",
    "def solve_circuit(values):\n",
    "    substituted_eqs = [eq.subs(values) for eq in [equation1, equation2, equation3, equation4]]\n",
    "\n",
    "    # Determine which variables are still unknown\n",
    "    unknowns = [var for var in [R1, R2, Vin, Vout, I, ratio, r_total] if var not in values]\n",
    "\n",
    "    # Solve the equations for the unknowns\n",
    "    solutions = solve(substituted_eqs, unknowns)\n",
    "\n",
    "    # Check the type of the solution and convert to dictionary if necessary\n",
    "    if isinstance(solutions, list):\n",
    "        # Assuming only one solution set in the list\n",
    "        solution_dict = {str(unknown): sol for unknown, sol in zip(unknowns, solutions[0])}\n",
    "    else:\n",
    "        # Solution is already a dictionary\n",
    "        solution_dict = solutions\n",
    "\n",
    "    return solution_dict\n",
    "\n",
    "# Example usage\n",
    "print(solve_circuit({I: 0.001, Vout: 2, Vin: 10}))\n",
    "print(solve_circuit({R1: 10, R2: 10, Vin: 10}))\n",
    "print(solve_circuit({R1: 10, R2: 10, Vin: 10}))"
   ]
  },
  {
   "cell_type": "code",
   "execution_count": 16,
   "metadata": {},
   "outputs": [
    {
     "data": {
      "text/plain": [
       "{I: 0.000980392156862745,\n",
       " Vout: 1.96078431372549,\n",
       " r_total: 10200.0000000000,\n",
       " ratio: 0.196078431372549}"
      ]
     },
     "execution_count": 16,
     "metadata": {},
     "output_type": "execute_result"
    }
   ],
   "source": [
    "# Solve\n",
    "import eseries\n",
    "solution = solve_circuit({I: 0.001, Vout: 2, Vin: 10})\n",
    "\n",
    "# Find the nearest E24 values\n",
    "r1 = eseries.find_nearest(eseries.E24, solution[\"R1\"])\n",
    "r2 = eseries.find_nearest(eseries.E24, solution[\"R2\"])\n",
    "\n",
    "# Check the results are within tolerance\n",
    "tolerance = 0.05\n",
    "\n",
    "proposed_solution = solve_circuit({R1: r1, R2: r2, Vin: 10})\n",
    "\n",
    "proposed_solution\n",
    "\n"
   ]
  },
  {
   "cell_type": "code",
   "execution_count": 27,
   "metadata": {},
   "outputs": [
    {
     "name": "stdout",
     "output_type": "stream",
     "text": [
      "(7500.0, 8200.0, 9100.0)\n",
      "(1800.0, 2000.0, 2200.0)\n"
     ]
    },
    {
     "ename": "AttributeError",
     "evalue": "'NoneType' object has no attribute 'evalf'",
     "output_type": "error",
     "traceback": [
      "\u001b[0;31m---------------------------------------------------------------------------\u001b[0m",
      "\u001b[0;31mAttributeError\u001b[0m                            Traceback (most recent call last)",
      "\u001b[1;32m/Users/narayanpowderly/Documents/atopile-workspace/atopile/sandbox/equations_sandbox.ipynb Cell 5\u001b[0m line \u001b[0;36m2\n\u001b[1;32m     <a href='vscode-notebook-cell:/Users/narayanpowderly/Documents/atopile-workspace/atopile/sandbox/equations_sandbox.ipynb#W4sZmlsZQ%3D%3D?line=20'>21</a>\u001b[0m \u001b[39mfor\u001b[39;00m j \u001b[39min\u001b[39;00m \u001b[39mrange\u001b[39m(\u001b[39mlen\u001b[39m(r2)):\n\u001b[1;32m     <a href='vscode-notebook-cell:/Users/narayanpowderly/Documents/atopile-workspace/atopile/sandbox/equations_sandbox.ipynb#W4sZmlsZQ%3D%3D?line=21'>22</a>\u001b[0m     proposed_solution \u001b[39m=\u001b[39m solve_circuit({R1: r1[i], R2: r2[j], Vin: \u001b[39m10\u001b[39m})\n\u001b[0;32m---> <a href='vscode-notebook-cell:/Users/narayanpowderly/Documents/atopile-workspace/atopile/sandbox/equations_sandbox.ipynb#W4sZmlsZQ%3D%3D?line=22'>23</a>\u001b[0m     proposed_vout \u001b[39m=\u001b[39m \u001b[39mfloat\u001b[39m(N(proposed_solution\u001b[39m.\u001b[39;49mget(\u001b[39m\"\u001b[39;49m\u001b[39mVout\u001b[39;49m\u001b[39m\"\u001b[39;49m)))\n\u001b[1;32m     <a href='vscode-notebook-cell:/Users/narayanpowderly/Documents/atopile-workspace/atopile/sandbox/equations_sandbox.ipynb#W4sZmlsZQ%3D%3D?line=24'>25</a>\u001b[0m     \u001b[39mif\u001b[39;00m \u001b[39m2\u001b[39m \u001b[39m*\u001b[39m (\u001b[39m1\u001b[39m \u001b[39m-\u001b[39m tolerance) \u001b[39m<\u001b[39m\u001b[39m=\u001b[39m proposed_vout \u001b[39m<\u001b[39m\u001b[39m=\u001b[39m \u001b[39m2\u001b[39m \u001b[39m*\u001b[39m (\u001b[39m1\u001b[39m \u001b[39m+\u001b[39m tolerance):\n\u001b[1;32m     <a href='vscode-notebook-cell:/Users/narayanpowderly/Documents/atopile-workspace/atopile/sandbox/equations_sandbox.ipynb#W4sZmlsZQ%3D%3D?line=25'>26</a>\u001b[0m         \u001b[39mprint\u001b[39m(\u001b[39m\"\u001b[39m\u001b[39mR1 = \u001b[39m\u001b[39m\"\u001b[39m, r1[i], \u001b[39m\"\u001b[39m\u001b[39mR2 = \u001b[39m\u001b[39m\"\u001b[39m, r2[j])\n",
      "File \u001b[0;32m~/Documents/atopile-workspace/.venv/lib/python3.11/site-packages/sympy/core/evalf.py:1749\u001b[0m, in \u001b[0;36mN\u001b[0;34m(x, n, **options)\u001b[0m\n\u001b[1;32m   1727\u001b[0m \u001b[39m\u001b[39m\u001b[39mr\u001b[39m\u001b[39m\"\"\"\u001b[39;00m\n\u001b[1;32m   1728\u001b[0m \u001b[39mCalls x.evalf(n, \\*\\*options).\u001b[39;00m\n\u001b[1;32m   1729\u001b[0m \n\u001b[0;32m   (...)\u001b[0m\n\u001b[1;32m   1745\u001b[0m \n\u001b[1;32m   1746\u001b[0m \u001b[39m\"\"\"\u001b[39;00m\n\u001b[1;32m   1747\u001b[0m \u001b[39m# by using rational=True, any evaluation of a string\u001b[39;00m\n\u001b[1;32m   1748\u001b[0m \u001b[39m# will be done using exact values for the Floats\u001b[39;00m\n\u001b[0;32m-> 1749\u001b[0m \u001b[39mreturn\u001b[39;00m sympify(x, rational\u001b[39m=\u001b[39;49m\u001b[39mTrue\u001b[39;49;00m)\u001b[39m.\u001b[39;49mevalf(n, \u001b[39m*\u001b[39m\u001b[39m*\u001b[39moptions)\n",
      "\u001b[0;31mAttributeError\u001b[0m: 'NoneType' object has no attribute 'evalf'"
     ]
    }
   ],
   "source": [
    "import eseries\n",
    "from sympy import N\n",
    "\n",
    "solution = solve_circuit({I: 0.001, Vout: 2, Vin: 10})\n",
    "\n",
    "# Convert SymPy solutions to float for eseries compatibility\n",
    "r1_val = float(N(solution[\"R1\"]))\n",
    "r2_val = float(N(solution[\"R2\"]))\n",
    "\n",
    "# Find the nearest E24 values\n",
    "r1 = eseries.find_nearest_few(eseries.E24, r1_val, 3)\n",
    "r2 = eseries.find_nearest_few(eseries.E24, r2_val, 3)\n",
    "\n",
    "# Check the results are within tolerance\n",
    "tolerance = 0.05\n",
    "print(r1)\n",
    "print(r2)\n",
    "\n",
    "# Iterate through the list of possible solutions\n",
    "for i in range(len(r1)):\n",
    "    for j in range(len(r2)):\n",
    "        proposed_solution = solve_circuit({R1: r1[i], R2: r2[j], Vin: 10})\n",
    "\n",
    "        try:\n",
    "            # Directly access 'Vout' from the solution\n",
    "            proposed_vout = float(N(proposed_solution[\"Vout\"]))\n",
    "\n",
    "            if 2 * (1 - tolerance) <= proposed_vout <= 2 * (1 + tolerance):\n",
    "                print(\"R1 = \", r1[i], \"R2 = \", r2[j])\n",
    "                print(proposed_solution)\n",
    "                break\n",
    "        except KeyError:\n",
    "            # Handle cases where 'Vout' is not in the solution\n",
    "            print(f\"No 'Vout' found for R1 = {r1[i]} and R2 = {r2[j]}\")\n",
    "            continue\n",
    "\n",
    "    else:\n",
    "        continue\n",
    "    break\n",
    "\n",
    "\n",
    "\n",
    "\n",
    "\n",
    "\n",
    "\n",
    "\n",
    "\n"
   ]
  },
  {
   "cell_type": "code",
   "execution_count": 62,
   "metadata": {},
   "outputs": [
    {
     "data": {
      "text/latex": [
       "$\\displaystyle 10 < R_{1} \\wedge R_{1} < \\infty$"
      ],
      "text/plain": [
       "(10 < R1) & (R1 < oo)"
      ]
     },
     "execution_count": 62,
     "metadata": {},
     "output_type": "execute_result"
    }
   ],
   "source": [
    "from sympy import symbols, solve_univariate_inequality\n",
    "\n",
    "inequality1 = R1 > 10\n",
    "inequality2 = R1 < 11\n",
    "solution1 = solve_univariate_inequality(inequality1, R1)\n",
    "solution2 = solve_univariate_inequality(inequality2, R1)\n",
    "\n"
   ]
  },
  {
   "cell_type": "code",
   "execution_count": 25,
   "metadata": {},
   "outputs": [
    {
     "data": {
      "text/plain": [
       "100_Ω"
      ]
     },
     "execution_count": 25,
     "metadata": {},
     "output_type": "execute_result"
    }
   ],
   "source": [
    "import unyts as ut\n",
    "\n",
    "# ut.volts(10, 'V')\n",
    "\n",
    "resistance = 100 * ut.ohm\n",
    "\n",
    "resistance"
   ]
  },
  {
   "cell_type": "code",
   "execution_count": 36,
   "metadata": {},
   "outputs": [
    {
     "data": {
      "text/html": [
       "millimeter/kilometer"
      ],
      "text/latex": [
       "$\\frac{\\mathrm{millimeter}}{\\mathrm{kilometer}}$"
      ],
      "text/plain": [
       "<Unit('millimeter / kilometer')>"
      ]
     },
     "execution_count": 36,
     "metadata": {},
     "output_type": "execute_result"
    }
   ],
   "source": [
    "import pint\n",
    "\n",
    "ureg = pint.UnitRegistry()\n",
    "\n",
    "(ureg.millimeter / ureg.kilometer)\n"
   ]
  },
  {
   "cell_type": "code",
   "execution_count": null,
   "metadata": {},
   "outputs": [],
   "source": [
    "#ato code example\n",
    "\n",
    "#### Vdiv class ####\n",
    "r1: Resistance = 3R | 3ohm\n",
    "r2: Resistance = 4K\n",
    "vout: voltage = 10V\n",
    "i(amps)\n",
    "rtotal(ohms)\n",
    "\n",
    "vout = vin * (r2 / (r1 + r2))\n",
    "\n",
    "i = vin / (r1 + r2)\n",
    "\n",
    "rtotal = r1 + r2\n",
    "\n",
    "r_top.value = r1\n",
    "r_bt.value = r2\n",
    "\n",
    "\n",
    "#### Instance of Vdiv class ####\n",
    "\n",
    "vdiv = new Vdiv\n",
    "\n",
    "vdiv.vin = 12V\n",
    "vdiv.vout = 10V\n",
    "# vdiv.i = 0.001A\n",
    "vdiv.rtotal = 1000Kohms\n",
    "\n",
    "\n",
    "component Resistor:\n",
    "    signal p1 ~ pin 1\n",
    "    signal p2 ~ pin 2\n",
    "\n",
    "    resistance = unknown ohms\n",
    "\n",
    "module Vdiv:\n",
    "    r1 = new Resistor \n",
    "    r2 = new Resistor\n",
    "\n",
    "    signal in\n",
    "    signal out\n",
    "    signal gnd\n",
    "\n",
    "    variable current = in.current\n",
    "    variable rtotal = unknown ohms\n",
    "\n",
    "\n",
    "    # equations\n",
    "    out.voltage:  = in.voltage * (r2.resistance / (r1.resistance + r2.resistance))\n",
    "    in.current = in.voltage / (r1.resistance + r2.resistance)\n",
    "    rtotal = r1.resistance + r2.resistance\n",
    "    ratio Ohms = r2.resistance / (r1.resistance + r2.resistance) kohm\n",
    "\n",
    "\n",
    "vdiv = new Vdiv\n",
    "vdiv.current = 0.01A\n",
    "vdiv.in.current = 0.01A\n",
    "\n",
    "vdiv.ratio = 0.5\n",
    "vdiv.rtotal = 1000"
   ]
  },
  {
   "cell_type": "code",
   "execution_count": 28,
   "metadata": {},
   "outputs": [
    {
     "name": "stdout",
     "output_type": "stream",
     "text": [
      "Value: 0.0025 A, Unit: A\n"
     ]
    }
   ],
   "source": [
    "import re\n",
    "\n",
    "def parse_unit(unit_str):\n",
    "    # Define prefixes and their multipliers\n",
    "    prefixes = {\n",
    "        'm': 1e-3,  # milli\n",
    "        'u': 1e-6,  # micro\n",
    "        'k': 1e3,   # kilo\n",
    "        'M': 1e6,   # Mega\n",
    "        # ... add more prefixes as needed\n",
    "    }\n",
    "\n",
    "    # Define the regex pattern for parsing\n",
    "    pattern = r'(\\d*\\.?\\d+)([a-zA-Z]*)'\n",
    "\n",
    "    # Search for matches using the regex pattern\n",
    "    match = re.match(pattern, unit_str)\n",
    "    if not match:\n",
    "        raise ValueError(f\"Invalid unit format: {unit_str}\")\n",
    "\n",
    "    # Extract value and unit from the match\n",
    "    value_str, unit_with_prefix = match.groups()\n",
    "\n",
    "    # Convert the value string to a float\n",
    "    value = float(value_str)\n",
    "\n",
    "    # Check if the unit has a prefix and separate it\n",
    "    prefix = ''\n",
    "    for p in prefixes:\n",
    "        if unit_with_prefix.startswith(p):\n",
    "            prefix = p\n",
    "            break\n",
    "\n",
    "    # Remove the prefix from the unit if it exists\n",
    "    unit = unit_with_prefix[len(prefix):] if prefix else unit_with_prefix\n",
    "\n",
    "    # Apply the multiplier if a prefix was found\n",
    "    if prefix in prefixes:\n",
    "        value *= prefixes[prefix]\n",
    "\n",
    "    return value, unit\n",
    "\n",
    "# Example usage\n",
    "value, unit = parse_unit(\"2.5mA\")\n",
    "print(f\"Value: {value} A, Unit: {unit}\")\n",
    "\n",
    "\n"
   ]
  },
  {
   "cell_type": "code",
   "execution_count": null,
   "metadata": {},
   "outputs": [],
   "source": []
  }
 ],
 "metadata": {
  "kernelspec": {
   "display_name": ".venv",
   "language": "python",
   "name": "python3"
  },
  "language_info": {
   "codemirror_mode": {
    "name": "ipython",
    "version": 3
   },
   "file_extension": ".py",
   "mimetype": "text/x-python",
   "name": "python",
   "nbconvert_exporter": "python",
   "pygments_lexer": "ipython3",
   "version": "3.11.6"
  }
 },
 "nbformat": 4,
 "nbformat_minor": 2
}
