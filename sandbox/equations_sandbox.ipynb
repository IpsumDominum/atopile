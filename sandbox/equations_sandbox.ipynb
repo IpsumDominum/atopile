{
 "cells": [
  {
   "cell_type": "code",
   "execution_count": 150,
   "metadata": {},
   "outputs": [
    {
     "data": {
      "text/plain": [
       "{R1: 8000.00000000000, R2: 2000.00000000000}"
      ]
     },
     "execution_count": 150,
     "metadata": {},
     "output_type": "execute_result"
    }
   ],
   "source": [
    "from sympy import symbols, Eq, solve\n",
    "\n",
    "# Define the symbols\n",
    "R1, R2 = symbols('R1 R2')\n",
    "\n",
    "# Known values\n",
    "Vin = 10  # Input voltage in volts\n",
    "Vout = 2  # Desired output voltage in volts\n",
    "I = 0.001 # Desired output current in amps\n",
    "\n",
    "# Define the equations\n",
    "equation1 = Eq(Vout, Vin * (R2 / (R1 + R2)))\n",
    "equation2 = Eq(I, Vin / (R1 + R2))\n",
    "ratio = R2 / (R1 + R2)\n",
    "\n",
    "# Solve the equations\n",
    "solution = solve((equation1, equation2), (R1, R2))\n",
    "\n",
    "solution"
   ]
  },
  {
   "cell_type": "code",
   "execution_count": 151,
   "metadata": {},
   "outputs": [],
   "source": [
    "from eseries import find_nearest, E24\n",
    "\n",
    "R1 = (find_nearest(E24, solution[R1]))\n",
    "R2 = (find_nearest(E24, solution[R2]))\n",
    "\n"
   ]
  },
  {
   "cell_type": "code",
   "execution_count": null,
   "metadata": {},
   "outputs": [],
   "source": []
  },
  {
   "cell_type": "markdown",
   "metadata": {},
   "source": [
    "### Step 1: solver\n",
    "\n",
    "Takes in any variables that seem useful and a set of equations and returns a solution for the variables.\n",
    "\n",
    "### Step 2: component picker\n",
    "\n",
    "Finds the nearest component values to the solution\n",
    "\n",
    "### Step 3: checker\n",
    "\n",
    "Checks the proposed values against the equations to see if it is correct"
   ]
  },
  {
   "cell_type": "code",
   "execution_count": 167,
   "metadata": {},
   "outputs": [
    {
     "name": "stdout",
     "output_type": "stream",
     "text": [
      "{'R1': (1.00000000000000, 1.00000000000000, 2.0*Vout, Vout, Vout)}\n",
      "{'R1': (1.60000000000000, 0.400000000000000, 2.00000000000000, 5.00000000000000)}\n",
      "{'R1': (1.80000000000000, 0.200000000000000, 0.00200000000000000, 0.000200000000000000)}\n",
      "{'R1': (8000.00000000000, 2000.00000000000, 0.200000000000000, 10000.0000000000)}\n"
     ]
    }
   ],
   "source": [
    "from sympy import symbols, Eq, solve\n",
    "\n",
    "import rich\n",
    "\n",
    "# Define all symbols\n",
    "R1, R2, Vin, Vout, I, ratio, r_total = symbols('R1 R2 Vin Vout I ratio r_total')\n",
    "\n",
    "# Define the equations\n",
    "equation1 = Eq(Vout, Vin * (R2 / (R1 + R2)))\n",
    "equation2 = Eq(I, Vin / (R1 + R2))\n",
    "equation3 = Eq(ratio, R2 / (R1 + R2))\n",
    "equation4 = Eq(r_total,R1 + R2)\n",
    "\n",
    "\n",
    "# Function to solve the equations based on specified values\n",
    "def solve_circuit(values):\n",
    "    substituted_eqs = [eq.subs(values) for eq in [equation1, equation2, equation3, equation4]]\n",
    "\n",
    "    # Determine which variables are still unknown\n",
    "    unknowns = [var for var in [R1, R2, Vin, Vout, I, ratio, r_total] if var not in values]\n",
    "\n",
    "    # Solve the equations for the unknowns\n",
    "    solution = solve(substituted_eqs, unknowns)\n",
    "    return {str(var): sol for var, sol in zip(unknowns, solution[0])}\n",
    "    # return solution\n",
    "\n",
    "\n",
    "\n",
    "# Example usage:\n",
    "\n",
    "# Case: Solving for unknowns when R1 and R2 are specified\n",
    "print(solve_circuit({ratio: 0.5, r_total: 2}))\n",
    "print(solve_circuit({ratio: 0.2, r_total: 2, Vin: 10}))\n",
    "\n",
    "# solve_circuit({I: 0.001, r_total: 2, Vin: 10})\n",
    "\n",
    "print(solve_circuit({I: 0.001, r_total: 2, ratio: 0.1}))\n",
    "\n",
    "print(solve_circuit({I: 0.001, Vout: 2, Vin: 10}))\n",
    "\n",
    "\n",
    "\n",
    "\n"
   ]
  },
  {
   "cell_type": "code",
   "execution_count": 169,
   "metadata": {},
   "outputs": [
    {
     "ename": "TypeError",
     "evalue": "unsupported operand type(s) for /: 'tuple' and 'float'",
     "output_type": "error",
     "traceback": [
      "\u001b[0;31m---------------------------------------------------------------------------\u001b[0m",
      "\u001b[0;31mTypeError\u001b[0m                                 Traceback (most recent call last)",
      "\u001b[1;32m/Users/narayanpowderly/Documents/atopile-workspace/atopile/sandbox/equations_sandbox.ipynb Cell 6\u001b[0m line \u001b[0;36m6\n\u001b[1;32m      <a href='vscode-notebook-cell:/Users/narayanpowderly/Documents/atopile-workspace/atopile/sandbox/equations_sandbox.ipynb#X13sZmlsZQ%3D%3D?line=2'>3</a>\u001b[0m solution \u001b[39m=\u001b[39m solve_circuit({I: \u001b[39m0.001\u001b[39m, Vout: \u001b[39m2\u001b[39m, Vin: \u001b[39m10\u001b[39m})\n\u001b[1;32m      <a href='vscode-notebook-cell:/Users/narayanpowderly/Documents/atopile-workspace/atopile/sandbox/equations_sandbox.ipynb#X13sZmlsZQ%3D%3D?line=4'>5</a>\u001b[0m \u001b[39m# Find the nearest E24 values\u001b[39;00m\n\u001b[0;32m----> <a href='vscode-notebook-cell:/Users/narayanpowderly/Documents/atopile-workspace/atopile/sandbox/equations_sandbox.ipynb#X13sZmlsZQ%3D%3D?line=5'>6</a>\u001b[0m r1 \u001b[39m=\u001b[39m eseries\u001b[39m.\u001b[39;49mfind_nearest(eseries\u001b[39m.\u001b[39;49mE24, solution[\u001b[39m\"\u001b[39;49m\u001b[39mR1\u001b[39;49m\u001b[39m\"\u001b[39;49m])\n\u001b[1;32m      <a href='vscode-notebook-cell:/Users/narayanpowderly/Documents/atopile-workspace/atopile/sandbox/equations_sandbox.ipynb#X13sZmlsZQ%3D%3D?line=6'>7</a>\u001b[0m r2 \u001b[39m=\u001b[39m eseries\u001b[39m.\u001b[39mfind_nearest(eseries\u001b[39m.\u001b[39mE24, solution[\u001b[39m\"\u001b[39m\u001b[39mR2\u001b[39m\u001b[39m\"\u001b[39m])\n\u001b[1;32m      <a href='vscode-notebook-cell:/Users/narayanpowderly/Documents/atopile-workspace/atopile/sandbox/equations_sandbox.ipynb#X13sZmlsZQ%3D%3D?line=8'>9</a>\u001b[0m \u001b[39m# Check the results are within tolerance\u001b[39;00m\n",
      "File \u001b[0;32m~/Documents/atopile-workspace/.venv/lib/python3.11/site-packages/eseries/eseries.py:264\u001b[0m, in \u001b[0;36mfind_nearest\u001b[0;34m(series_key, value)\u001b[0m\n\u001b[1;32m    249\u001b[0m \u001b[39mdef\u001b[39;00m \u001b[39mfind_nearest\u001b[39m(series_key, value):\n\u001b[1;32m    250\u001b[0m \u001b[39m    \u001b[39m\u001b[39m\"\"\"Find the nearest value.\u001b[39;00m\n\u001b[1;32m    251\u001b[0m \n\u001b[1;32m    252\u001b[0m \u001b[39m    Args:\u001b[39;00m\n\u001b[0;32m   (...)\u001b[0m\n\u001b[1;32m    262\u001b[0m \u001b[39m        ValueError: If value is out of range.\u001b[39;00m\n\u001b[1;32m    263\u001b[0m \u001b[39m    \"\"\"\u001b[39;00m\n\u001b[0;32m--> 264\u001b[0m     \u001b[39mreturn\u001b[39;00m find_nearest_few(series_key, value, num\u001b[39m=\u001b[39;49m\u001b[39m1\u001b[39;49m)[\u001b[39m0\u001b[39m]\n",
      "File \u001b[0;32m~/Documents/atopile-workspace/.venv/lib/python3.11/site-packages/eseries/eseries.py:288\u001b[0m, in \u001b[0;36mfind_nearest_few\u001b[0;34m(series_key, value, num)\u001b[0m\n\u001b[1;32m    286\u001b[0m \u001b[39mif\u001b[39;00m num \u001b[39mnot\u001b[39;00m \u001b[39min\u001b[39;00m {\u001b[39m1\u001b[39m, \u001b[39m2\u001b[39m, \u001b[39m3\u001b[39m}:\n\u001b[1;32m    287\u001b[0m     \u001b[39mraise\u001b[39;00m \u001b[39mValueError\u001b[39;00m(\u001b[39m\"\u001b[39m\u001b[39mnum \u001b[39m\u001b[39m{}\u001b[39;00m\u001b[39m is not 1, 2 or 3\u001b[39m\u001b[39m\"\u001b[39m\u001b[39m.\u001b[39mformat(num))\n\u001b[0;32m--> 288\u001b[0m start \u001b[39m=\u001b[39m value \u001b[39m/\u001b[39;49m \u001b[39mpow\u001b[39;49m(GEOMETRIC_SCALE_E[series_key], \u001b[39m1.5\u001b[39;49m)\n\u001b[1;32m    289\u001b[0m stop \u001b[39m=\u001b[39m value \u001b[39m*\u001b[39m \u001b[39mpow\u001b[39m(GEOMETRIC_SCALE_E[series_key], \u001b[39m1.5\u001b[39m)\n\u001b[1;32m    290\u001b[0m candidates \u001b[39m=\u001b[39m \u001b[39mtuple\u001b[39m(erange(series_key, start, stop))\n",
      "\u001b[0;31mTypeError\u001b[0m: unsupported operand type(s) for /: 'tuple' and 'float'"
     ]
    }
   ],
   "source": [
    "#solve\n",
    "\n",
    "solution = solve_circuit({I: 0.001, Vout: 2, Vin: 10})\n",
    "\n",
    "# Find the nearest E24 values\n",
    "r1 = eseries.find_nearest(eseries.E24, solution[\"R1\"])\n",
    "r2 = eseries.find_nearest(eseries.E24, solution[\"R2\"])\n",
    "\n",
    "# Check the results are within tolerance\n",
    "tolerance = 0.05\n",
    "\n",
    "# proposed_solution = solve_circuit({R1: 10, R2: 10, Vin: 10})\n",
    "\n",
    "# proposed_solution\n",
    "\n"
   ]
  },
  {
   "cell_type": "code",
   "execution_count": null,
   "metadata": {},
   "outputs": [],
   "source": [
    "\n",
    "\n",
    "\n",
    "\n",
    "\n",
    "\n",
    "\n",
    "\n",
    "\n",
    "\n"
   ]
  },
  {
   "cell_type": "code",
   "execution_count": 62,
   "metadata": {},
   "outputs": [
    {
     "data": {
      "text/latex": [
       "$\\displaystyle 10 < R_{1} \\wedge R_{1} < \\infty$"
      ],
      "text/plain": [
       "(10 < R1) & (R1 < oo)"
      ]
     },
     "execution_count": 62,
     "metadata": {},
     "output_type": "execute_result"
    }
   ],
   "source": [
    "from sympy import symbols, solve_univariate_inequality\n",
    "\n",
    "inequality1 = R1 > 10\n",
    "inequality2 = R1 < 11\n",
    "solution1 = solve_univariate_inequality(inequality1, R1)\n",
    "solution2 = solve_univariate_inequality(inequality2, R1)\n",
    "\n"
   ]
  },
  {
   "cell_type": "code",
   "execution_count": 25,
   "metadata": {},
   "outputs": [
    {
     "data": {
      "text/plain": [
       "100_Ω"
      ]
     },
     "execution_count": 25,
     "metadata": {},
     "output_type": "execute_result"
    }
   ],
   "source": [
    "import unyts as ut\n",
    "\n",
    "# ut.volts(10, 'V')\n",
    "\n",
    "resistance = 100 * ut.ohm\n",
    "\n",
    "resistance"
   ]
  },
  {
   "cell_type": "code",
   "execution_count": 36,
   "metadata": {},
   "outputs": [
    {
     "data": {
      "text/html": [
       "millimeter/kilometer"
      ],
      "text/latex": [
       "$\\frac{\\mathrm{millimeter}}{\\mathrm{kilometer}}$"
      ],
      "text/plain": [
       "<Unit('millimeter / kilometer')>"
      ]
     },
     "execution_count": 36,
     "metadata": {},
     "output_type": "execute_result"
    }
   ],
   "source": [
    "import pint\n",
    "\n",
    "ureg = pint.UnitRegistry()\n",
    "\n",
    "(ureg.millimeter / ureg.kilometer)\n"
   ]
  },
  {
   "cell_type": "code",
   "execution_count": null,
   "metadata": {},
   "outputs": [],
   "source": [
    "#ato code example\n",
    "\n",
    "#### Vdiv class ####\n",
    "r1: Resistance = 3R | 3ohm\n",
    "r2: Resistance = 4K\n",
    "vout: voltage = 10V\n",
    "i(amps)\n",
    "rtotal(ohms)\n",
    "\n",
    "vout = vin * (r2 / (r1 + r2))\n",
    "\n",
    "i = vin / (r1 + r2)\n",
    "\n",
    "rtotal = r1 + r2\n",
    "\n",
    "r_top.value = r1\n",
    "r_bt.value = r2\n",
    "\n",
    "\n",
    "#### Instance of Vdiv class ####\n",
    "\n",
    "vdiv = new Vdiv\n",
    "\n",
    "vdiv.vin = 12V\n",
    "vdiv.vout = 10V\n",
    "# vdiv.i = 0.001A\n",
    "vdiv.rtotal = 1000Kohms\n",
    "\n",
    "\n",
    "component Resistor:\n",
    "    signal p1 ~ pin 1\n",
    "    signal p2 ~ pin 2\n",
    "\n",
    "    resistance = unknown ohms\n",
    "\n",
    "module Vdiv:\n",
    "    r1 = new Resistor \n",
    "    r2 = new Resistor\n",
    "\n",
    "    signal in\n",
    "    signal out\n",
    "    signal gnd\n",
    "\n",
    "    variable current = in.current\n",
    "    variable rtotal = unknown ohms\n",
    "\n",
    "\n",
    "    # equations\n",
    "    out.voltage:  = in.voltage * (r2.resistance / (r1.resistance + r2.resistance))\n",
    "    in.current = in.voltage / (r1.resistance + r2.resistance)\n",
    "    rtotal = r1.resistance + r2.resistance\n",
    "    ratio Ohms = r2.resistance / (r1.resistance + r2.resistance) kohm\n",
    "\n",
    "\n",
    "vdiv = new Vdiv\n",
    "vdiv.current = 0.01A\n",
    "vdiv.in.current = 0.01A\n",
    "\n",
    "vdiv.ratio = 0.5\n",
    "vdiv.rtotal = 1000"
   ]
  },
  {
   "cell_type": "code",
   "execution_count": 28,
   "metadata": {},
   "outputs": [
    {
     "name": "stdout",
     "output_type": "stream",
     "text": [
      "Value: 0.0025 A, Unit: A\n"
     ]
    }
   ],
   "source": [
    "import re\n",
    "\n",
    "def parse_unit(unit_str):\n",
    "    # Define prefixes and their multipliers\n",
    "    prefixes = {\n",
    "        'm': 1e-3,  # milli\n",
    "        'u': 1e-6,  # micro\n",
    "        'k': 1e3,   # kilo\n",
    "        'M': 1e6,   # Mega\n",
    "        # ... add more prefixes as needed\n",
    "    }\n",
    "\n",
    "    # Define the regex pattern for parsing\n",
    "    pattern = r'(\\d*\\.?\\d+)([a-zA-Z]*)'\n",
    "\n",
    "    # Search for matches using the regex pattern\n",
    "    match = re.match(pattern, unit_str)\n",
    "    if not match:\n",
    "        raise ValueError(f\"Invalid unit format: {unit_str}\")\n",
    "\n",
    "    # Extract value and unit from the match\n",
    "    value_str, unit_with_prefix = match.groups()\n",
    "\n",
    "    # Convert the value string to a float\n",
    "    value = float(value_str)\n",
    "\n",
    "    # Check if the unit has a prefix and separate it\n",
    "    prefix = ''\n",
    "    for p in prefixes:\n",
    "        if unit_with_prefix.startswith(p):\n",
    "            prefix = p\n",
    "            break\n",
    "\n",
    "    # Remove the prefix from the unit if it exists\n",
    "    unit = unit_with_prefix[len(prefix):] if prefix else unit_with_prefix\n",
    "\n",
    "    # Apply the multiplier if a prefix was found\n",
    "    if prefix in prefixes:\n",
    "        value *= prefixes[prefix]\n",
    "\n",
    "    return value, unit\n",
    "\n",
    "# Example usage\n",
    "value, unit = parse_unit(\"2.5mA\")\n",
    "print(f\"Value: {value} A, Unit: {unit}\")\n",
    "\n",
    "\n"
   ]
  },
  {
   "cell_type": "code",
   "execution_count": null,
   "metadata": {},
   "outputs": [],
   "source": []
  }
 ],
 "metadata": {
  "kernelspec": {
   "display_name": ".venv",
   "language": "python",
   "name": "python3"
  },
  "language_info": {
   "codemirror_mode": {
    "name": "ipython",
    "version": 3
   },
   "file_extension": ".py",
   "mimetype": "text/x-python",
   "name": "python",
   "nbconvert_exporter": "python",
   "pygments_lexer": "ipython3",
   "version": "3.11.6"
  }
 },
 "nbformat": 4,
 "nbformat_minor": 2
}
